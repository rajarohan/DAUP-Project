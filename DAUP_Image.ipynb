{
  "nbformat": 4,
  "nbformat_minor": 0,
  "metadata": {
    "colab": {
      "provenance": [],
      "gpuType": "T4"
    },
    "kernelspec": {
      "name": "python3",
      "display_name": "Python 3"
    },
    "language_info": {
      "name": "python"
    },
    "accelerator": "GPU"
  },
  "cells": [
    {
      "cell_type": "code",
      "source": [
        "import kagglehub\n",
        "\n",
        "# Download latest version\n",
        "path = kagglehub.dataset_download(\"rashikrahmanpritom/plant-disease-recognition-dataset\")\n",
        "\n",
        "print(\"Path to dataset files:\", path)"
      ],
      "metadata": {
        "colab": {
          "base_uri": "https://localhost:8080/"
        },
        "id": "2CWjYtj4VCaa",
        "outputId": "d132d8ac-33da-4d0f-e108-31039a1af96a"
      },
      "execution_count": 1,
      "outputs": [
        {
          "output_type": "stream",
          "name": "stdout",
          "text": [
            "Path to dataset files: /kaggle/input/plant-disease-recognition-dataset\n"
          ]
        }
      ]
    },
    {
      "cell_type": "code",
      "source": [
        "ls /kaggle/input/plant-disease-recognition-dataset/Train/Train/"
      ],
      "metadata": {
        "colab": {
          "base_uri": "https://localhost:8080/"
        },
        "id": "YVWCGCtEVEbI",
        "outputId": "6e610df4-d70a-4d4b-8d70-bfc4c682a52d"
      },
      "execution_count": 4,
      "outputs": [
        {
          "output_type": "stream",
          "name": "stdout",
          "text": [
            "\u001b[0m\u001b[01;34mHealthy\u001b[0m/  \u001b[01;34mPowdery\u001b[0m/  \u001b[01;34mRust\u001b[0m/\n"
          ]
        }
      ]
    },
    {
      "cell_type": "code",
      "source": [
        "import os\n",
        "import cv2\n",
        "import numpy as np\n",
        "import tensorflow as tf\n",
        "from sklearn.model_selection import train_test_split\n",
        "from tensorflow.keras.utils import to_categorical\n",
        "from sklearn.preprocessing import LabelEncoder\n",
        "\n",
        "# Paths\n",
        "dataset_path = '/kaggle/input/plant-disease-recognition-dataset/Train/Train/'\n",
        "img_size_list = [(256, 256), (200, 200)]\n",
        "\n",
        "# Function to load and preprocess images\n",
        "def load_images(img_size, color_mode):\n",
        "    X, Y = [], []\n",
        "    class_labels = sorted(os.listdir(dataset_path))\n",
        "\n",
        "    for label in class_labels:\n",
        "        class_path = os.path.join(dataset_path, label)\n",
        "        for img_name in os.listdir(class_path):\n",
        "            img_path = os.path.join(class_path, img_name)\n",
        "            img = cv2.imread(img_path)\n",
        "\n",
        "            # Convert image color\n",
        "            if color_mode == \"greyscale\":\n",
        "                img = cv2.cvtColor(img, cv2.COLOR_BGR2GRAY)\n",
        "            img = cv2.resize(img, img_size)\n",
        "            img = np.expand_dims(img, axis=-1) if color_mode == \"greyscale\" else img\n",
        "            X.append(img)\n",
        "            Y.append(label)\n",
        "\n",
        "    X = np.array(X) / 255.0  # Normalize images\n",
        "    return X, np.array(Y)\n",
        "\n",
        "# Load dataset in different formats\n",
        "data = {}\n",
        "for size in img_size_list:\n",
        "    for mode in [\"greyscale\", \"RGB\"]:\n",
        "        key = f\"{mode}_{size[0]}x{size[1]}\"\n",
        "        print(f\"Processing {key}...\")\n",
        "        data[key] = load_images(size, mode)"
      ],
      "metadata": {
        "colab": {
          "base_uri": "https://localhost:8080/"
        },
        "id": "EiHXfeGiVdsl",
        "outputId": "d75f084d-3811-41d7-d4f6-c469dd21b7a5"
      },
      "execution_count": 5,
      "outputs": [
        {
          "output_type": "stream",
          "name": "stdout",
          "text": [
            "Processing greyscale_256x256...\n",
            "Processing RGB_256x256...\n",
            "Processing greyscale_200x200...\n",
            "Processing RGB_200x200...\n"
          ]
        }
      ]
    },
    {
      "cell_type": "code",
      "source": [
        "from tensorflow.keras.models import Sequential\n",
        "from tensorflow.keras.layers import Conv2D, MaxPooling2D, Flatten, Dense, Dropout\n",
        "\n",
        "def train_model(X, Y, img_size, color_mode):\n",
        "    label_encoder = LabelEncoder()\n",
        "    Y = label_encoder.fit_transform(Y)\n",
        "    Y = to_categorical(Y)\n",
        "\n",
        "    num_classes = Y.shape[1]  # Get correct number of classes\n",
        "    X_train, X_test, Y_train, Y_test = train_test_split(X, Y, test_size=0.2, random_state=42)\n",
        "\n",
        "    # Define CNN model\n",
        "    input_shape = (img_size[0], img_size[1], 1 if color_mode == \"greyscale\" else 3)\n",
        "    model = Sequential([\n",
        "        tf.keras.layers.Input(shape=input_shape),  # Use Input Layer\n",
        "        Conv2D(32, (3,3), activation='relu'),\n",
        "        MaxPooling2D((2,2)),\n",
        "        Flatten(),\n",
        "        Dense(32, activation='relu'),\n",
        "        Dropout(0.5),\n",
        "        Dense(num_classes, activation='softmax')  # Correct number of output classes\n",
        "    ])\n",
        "\n",
        "    model.compile(optimizer='adam', loss='categorical_crossentropy', metrics=['accuracy'])\n",
        "\n",
        "    # Train Model\n",
        "    model.fit(X_train, Y_train, epochs=10, batch_size=32, validation_data=(X_test, Y_test))\n",
        "\n",
        "    return model, label_encoder\n",
        "\n",
        "# Train models for all formats\n",
        "models = {}\n",
        "for key, (X, Y) in data.items():\n",
        "    img_size = tuple(map(int, key.split('_')[1].split('x')))\n",
        "    color_mode = key.split('_')[0]\n",
        "    print(f\"\\nTraining Model for {key}\")\n",
        "    models[key] = train_model(X, Y, img_size, color_mode)"
      ],
      "metadata": {
        "colab": {
          "base_uri": "https://localhost:8080/"
        },
        "id": "pK1oP3oOV0YY",
        "outputId": "381316f3-97ea-4d35-9102-b8bc73afd0db"
      },
      "execution_count": 6,
      "outputs": [
        {
          "output_type": "stream",
          "name": "stdout",
          "text": [
            "\n",
            "Training Model for greyscale_256x256\n",
            "Epoch 1/10\n",
            "\u001b[1m34/34\u001b[0m \u001b[32m━━━━━━━━━━━━━━━━━━━━\u001b[0m\u001b[37m\u001b[0m \u001b[1m11s\u001b[0m 169ms/step - accuracy: 0.3471 - loss: 8.4102 - val_accuracy: 0.2755 - val_loss: 1.0992\n",
            "Epoch 2/10\n",
            "\u001b[1m34/34\u001b[0m \u001b[32m━━━━━━━━━━━━━━━━━━━━\u001b[0m\u001b[37m\u001b[0m \u001b[1m1s\u001b[0m 31ms/step - accuracy: 0.3421 - loss: 1.0985 - val_accuracy: 0.2755 - val_loss: 1.0997\n",
            "Epoch 3/10\n",
            "\u001b[1m34/34\u001b[0m \u001b[32m━━━━━━━━━━━━━━━━━━━━\u001b[0m\u001b[37m\u001b[0m \u001b[1m1s\u001b[0m 31ms/step - accuracy: 0.3501 - loss: 1.1673 - val_accuracy: 0.2755 - val_loss: 1.0995\n",
            "Epoch 4/10\n",
            "\u001b[1m34/34\u001b[0m \u001b[32m━━━━━━━━━━━━━━━━━━━━\u001b[0m\u001b[37m\u001b[0m \u001b[1m1s\u001b[0m 30ms/step - accuracy: 0.3102 - loss: 1.0985 - val_accuracy: 0.2755 - val_loss: 1.0993\n",
            "Epoch 5/10\n",
            "\u001b[1m34/34\u001b[0m \u001b[32m━━━━━━━━━━━━━━━━━━━━\u001b[0m\u001b[37m\u001b[0m \u001b[1m1s\u001b[0m 30ms/step - accuracy: 0.3274 - loss: 1.0985 - val_accuracy: 0.2755 - val_loss: 1.0997\n",
            "Epoch 6/10\n",
            "\u001b[1m34/34\u001b[0m \u001b[32m━━━━━━━━━━━━━━━━━━━━\u001b[0m\u001b[37m\u001b[0m \u001b[1m1s\u001b[0m 30ms/step - accuracy: 0.3203 - loss: 1.0982 - val_accuracy: 0.2755 - val_loss: 1.0998\n",
            "Epoch 7/10\n",
            "\u001b[1m34/34\u001b[0m \u001b[32m━━━━━━━━━━━━━━━━━━━━\u001b[0m\u001b[37m\u001b[0m \u001b[1m1s\u001b[0m 30ms/step - accuracy: 0.3405 - loss: 1.0982 - val_accuracy: 0.2755 - val_loss: 1.0998\n",
            "Epoch 8/10\n",
            "\u001b[1m34/34\u001b[0m \u001b[32m━━━━━━━━━━━━━━━━━━━━\u001b[0m\u001b[37m\u001b[0m \u001b[1m1s\u001b[0m 29ms/step - accuracy: 0.3545 - loss: 1.0981 - val_accuracy: 0.2755 - val_loss: 1.0996\n",
            "Epoch 9/10\n",
            "\u001b[1m34/34\u001b[0m \u001b[32m━━━━━━━━━━━━━━━━━━━━\u001b[0m\u001b[37m\u001b[0m \u001b[1m1s\u001b[0m 31ms/step - accuracy: 0.3589 - loss: 1.0984 - val_accuracy: 0.3623 - val_loss: 1.0995\n",
            "Epoch 10/10\n",
            "\u001b[1m34/34\u001b[0m \u001b[32m━━━━━━━━━━━━━━━━━━━━\u001b[0m\u001b[37m\u001b[0m \u001b[1m1s\u001b[0m 31ms/step - accuracy: 0.3494 - loss: 1.0976 - val_accuracy: 0.3623 - val_loss: 1.0996\n",
            "\n",
            "Training Model for RGB_256x256\n",
            "Epoch 1/10\n",
            "\u001b[1m34/34\u001b[0m \u001b[32m━━━━━━━━━━━━━━━━━━━━\u001b[0m\u001b[37m\u001b[0m \u001b[1m8s\u001b[0m 143ms/step - accuracy: 0.3274 - loss: 7.1892 - val_accuracy: 0.2755 - val_loss: 1.0281\n",
            "Epoch 2/10\n",
            "\u001b[1m34/34\u001b[0m \u001b[32m━━━━━━━━━━━━━━━━━━━━\u001b[0m\u001b[37m\u001b[0m \u001b[1m2s\u001b[0m 46ms/step - accuracy: 0.3158 - loss: 1.0278 - val_accuracy: 0.5396 - val_loss: 1.0438\n",
            "Epoch 3/10\n",
            "\u001b[1m34/34\u001b[0m \u001b[32m━━━━━━━━━━━━━━━━━━━━\u001b[0m\u001b[37m\u001b[0m \u001b[1m1s\u001b[0m 41ms/step - accuracy: 0.3508 - loss: 1.0935 - val_accuracy: 0.3623 - val_loss: 1.0974\n",
            "Epoch 4/10\n",
            "\u001b[1m34/34\u001b[0m \u001b[32m━━━━━━━━━━━━━━━━━━━━\u001b[0m\u001b[37m\u001b[0m \u001b[1m2s\u001b[0m 39ms/step - accuracy: 0.3593 - loss: 1.0980 - val_accuracy: 0.3623 - val_loss: 1.0976\n",
            "Epoch 5/10\n",
            "\u001b[1m34/34\u001b[0m \u001b[32m━━━━━━━━━━━━━━━━━━━━\u001b[0m\u001b[37m\u001b[0m \u001b[1m3s\u001b[0m 39ms/step - accuracy: 0.3448 - loss: 1.0984 - val_accuracy: 0.3623 - val_loss: 1.0975\n",
            "Epoch 6/10\n",
            "\u001b[1m34/34\u001b[0m \u001b[32m━━━━━━━━━━━━━━━━━━━━\u001b[0m\u001b[37m\u001b[0m \u001b[1m3s\u001b[0m 39ms/step - accuracy: 0.3477 - loss: 1.0984 - val_accuracy: 0.3623 - val_loss: 1.0976\n",
            "Epoch 7/10\n",
            "\u001b[1m34/34\u001b[0m \u001b[32m━━━━━━━━━━━━━━━━━━━━\u001b[0m\u001b[37m\u001b[0m \u001b[1m1s\u001b[0m 39ms/step - accuracy: 0.3585 - loss: 1.0980 - val_accuracy: 0.3623 - val_loss: 1.0976\n",
            "Epoch 8/10\n",
            "\u001b[1m34/34\u001b[0m \u001b[32m━━━━━━━━━━━━━━━━━━━━\u001b[0m\u001b[37m\u001b[0m \u001b[1m3s\u001b[0m 44ms/step - accuracy: 0.3492 - loss: 1.0982 - val_accuracy: 0.3623 - val_loss: 1.0978\n",
            "Epoch 9/10\n",
            "\u001b[1m34/34\u001b[0m \u001b[32m━━━━━━━━━━━━━━━━━━━━\u001b[0m\u001b[37m\u001b[0m \u001b[1m2s\u001b[0m 39ms/step - accuracy: 0.3322 - loss: 1.0988 - val_accuracy: 0.3623 - val_loss: 1.0981\n",
            "Epoch 10/10\n",
            "\u001b[1m34/34\u001b[0m \u001b[32m━━━━━━━━━━━━━━━━━━━━\u001b[0m\u001b[37m\u001b[0m \u001b[1m1s\u001b[0m 40ms/step - accuracy: 0.3392 - loss: 1.0983 - val_accuracy: 0.3623 - val_loss: 1.0987\n",
            "\n",
            "Training Model for greyscale_200x200\n",
            "Epoch 1/10\n",
            "\u001b[1m34/34\u001b[0m \u001b[32m━━━━━━━━━━━━━━━━━━━━\u001b[0m\u001b[37m\u001b[0m \u001b[1m8s\u001b[0m 146ms/step - accuracy: 0.3235 - loss: 5.4775 - val_accuracy: 0.2755 - val_loss: 1.0991\n",
            "Epoch 2/10\n",
            "\u001b[1m34/34\u001b[0m \u001b[32m━━━━━━━━━━━━━━━━━━━━\u001b[0m\u001b[37m\u001b[0m \u001b[1m4s\u001b[0m 20ms/step - accuracy: 0.3467 - loss: 1.0985 - val_accuracy: 0.2755 - val_loss: 1.0993\n",
            "Epoch 3/10\n",
            "\u001b[1m34/34\u001b[0m \u001b[32m━━━━━━━━━━━━━━━━━━━━\u001b[0m\u001b[37m\u001b[0m \u001b[1m1s\u001b[0m 19ms/step - accuracy: 0.3134 - loss: 1.0986 - val_accuracy: 0.3623 - val_loss: 1.0991\n",
            "Epoch 4/10\n",
            "\u001b[1m34/34\u001b[0m \u001b[32m━━━━━━━━━━━━━━━━━━━━\u001b[0m\u001b[37m\u001b[0m \u001b[1m1s\u001b[0m 22ms/step - accuracy: 0.3651 - loss: 1.0981 - val_accuracy: 0.2755 - val_loss: 1.0998\n",
            "Epoch 5/10\n",
            "\u001b[1m34/34\u001b[0m \u001b[32m━━━━━━━━━━━━━━━━━━━━\u001b[0m\u001b[37m\u001b[0m \u001b[1m1s\u001b[0m 19ms/step - accuracy: 0.3459 - loss: 1.0981 - val_accuracy: 0.2755 - val_loss: 1.0996\n",
            "Epoch 6/10\n",
            "\u001b[1m34/34\u001b[0m \u001b[32m━━━━━━━━━━━━━━━━━━━━\u001b[0m\u001b[37m\u001b[0m \u001b[1m1s\u001b[0m 22ms/step - accuracy: 0.3462 - loss: 1.0980 - val_accuracy: 0.2755 - val_loss: 1.1003\n",
            "Epoch 7/10\n",
            "\u001b[1m34/34\u001b[0m \u001b[32m━━━━━━━━━━━━━━━━━━━━\u001b[0m\u001b[37m\u001b[0m \u001b[1m1s\u001b[0m 20ms/step - accuracy: 0.3577 - loss: 1.1134 - val_accuracy: 0.2755 - val_loss: 1.1008\n",
            "Epoch 8/10\n",
            "\u001b[1m34/34\u001b[0m \u001b[32m━━━━━━━━━━━━━━━━━━━━\u001b[0m\u001b[37m\u001b[0m \u001b[1m1s\u001b[0m 23ms/step - accuracy: 0.3602 - loss: 1.0972 - val_accuracy: 0.2755 - val_loss: 1.1013\n",
            "Epoch 9/10\n",
            "\u001b[1m34/34\u001b[0m \u001b[32m━━━━━━━━━━━━━━━━━━━━\u001b[0m\u001b[37m\u001b[0m \u001b[1m1s\u001b[0m 20ms/step - accuracy: 0.3500 - loss: 1.0976 - val_accuracy: 0.2755 - val_loss: 1.1016\n",
            "Epoch 10/10\n",
            "\u001b[1m34/34\u001b[0m \u001b[32m━━━━━━━━━━━━━━━━━━━━\u001b[0m\u001b[37m\u001b[0m \u001b[1m1s\u001b[0m 22ms/step - accuracy: 0.3376 - loss: 1.0978 - val_accuracy: 0.2755 - val_loss: 1.1013\n",
            "\n",
            "Training Model for RGB_200x200\n",
            "Epoch 1/10\n",
            "\u001b[1m34/34\u001b[0m \u001b[32m━━━━━━━━━━━━━━━━━━━━\u001b[0m\u001b[37m\u001b[0m \u001b[1m6s\u001b[0m 93ms/step - accuracy: 0.3931 - loss: 3.8033 - val_accuracy: 0.3623 - val_loss: 1.0207\n",
            "Epoch 2/10\n",
            "\u001b[1m34/34\u001b[0m \u001b[32m━━━━━━━━━━━━━━━━━━━━\u001b[0m\u001b[37m\u001b[0m \u001b[1m1s\u001b[0m 27ms/step - accuracy: 0.3642 - loss: 1.0521 - val_accuracy: 0.6755 - val_loss: 1.0083\n",
            "Epoch 3/10\n",
            "\u001b[1m34/34\u001b[0m \u001b[32m━━━━━━━━━━━━━━━━━━━━\u001b[0m\u001b[37m\u001b[0m \u001b[1m1s\u001b[0m 27ms/step - accuracy: 0.4643 - loss: 1.0178 - val_accuracy: 0.6491 - val_loss: 0.9473\n",
            "Epoch 4/10\n",
            "\u001b[1m34/34\u001b[0m \u001b[32m━━━━━━━━━━━━━━━━━━━━\u001b[0m\u001b[37m\u001b[0m \u001b[1m1s\u001b[0m 25ms/step - accuracy: 0.4546 - loss: 1.0073 - val_accuracy: 0.5887 - val_loss: 0.9129\n",
            "Epoch 5/10\n",
            "\u001b[1m34/34\u001b[0m \u001b[32m━━━━━━━━━━━━━━━━━━━━\u001b[0m\u001b[37m\u001b[0m \u001b[1m1s\u001b[0m 25ms/step - accuracy: 0.4592 - loss: 0.9954 - val_accuracy: 0.6604 - val_loss: 0.8927\n",
            "Epoch 6/10\n",
            "\u001b[1m34/34\u001b[0m \u001b[32m━━━━━━━━━━━━━━━━━━━━\u001b[0m\u001b[37m\u001b[0m \u001b[1m1s\u001b[0m 27ms/step - accuracy: 0.4606 - loss: 0.9699 - val_accuracy: 0.6868 - val_loss: 0.7825\n",
            "Epoch 7/10\n",
            "\u001b[1m34/34\u001b[0m \u001b[32m━━━━━━━━━━━━━━━━━━━━\u001b[0m\u001b[37m\u001b[0m \u001b[1m1s\u001b[0m 25ms/step - accuracy: 0.4417 - loss: 0.9349 - val_accuracy: 0.7170 - val_loss: 0.7011\n",
            "Epoch 8/10\n",
            "\u001b[1m34/34\u001b[0m \u001b[32m━━━━━━━━━━━━━━━━━━━━\u001b[0m\u001b[37m\u001b[0m \u001b[1m1s\u001b[0m 25ms/step - accuracy: 0.4485 - loss: 0.8693 - val_accuracy: 0.7094 - val_loss: 0.6396\n",
            "Epoch 9/10\n",
            "\u001b[1m34/34\u001b[0m \u001b[32m━━━━━━━━━━━━━━━━━━━━\u001b[0m\u001b[37m\u001b[0m \u001b[1m1s\u001b[0m 27ms/step - accuracy: 0.4802 - loss: 0.8275 - val_accuracy: 0.7509 - val_loss: 0.6452\n",
            "Epoch 10/10\n",
            "\u001b[1m34/34\u001b[0m \u001b[32m━━━━━━━━━━━━━━━━━━━━\u001b[0m\u001b[37m\u001b[0m \u001b[1m1s\u001b[0m 25ms/step - accuracy: 0.4964 - loss: 0.8165 - val_accuracy: 0.7358 - val_loss: 0.5751\n"
          ]
        }
      ]
    },
    {
      "cell_type": "code",
      "source": [
        "for key, (model, encoder) in models.items():\n",
        "    print(f\"Model {key}: Best Validation Accuracy = {max(model.history.history['val_accuracy'])}\")"
      ],
      "metadata": {
        "colab": {
          "base_uri": "https://localhost:8080/"
        },
        "id": "qKjraGP9YPNF",
        "outputId": "48be51de-3bec-4207-b74d-84d195bfbdef"
      },
      "execution_count": 7,
      "outputs": [
        {
          "output_type": "stream",
          "name": "stdout",
          "text": [
            "Model greyscale_256x256: Best Validation Accuracy = 0.36226415634155273\n",
            "Model RGB_256x256: Best Validation Accuracy = 0.5396226644515991\n",
            "Model greyscale_200x200: Best Validation Accuracy = 0.36226415634155273\n",
            "Model RGB_200x200: Best Validation Accuracy = 0.7509434223175049\n"
          ]
        }
      ]
    },
    {
      "cell_type": "code",
      "source": [
        "ls /kaggle/input/plant-disease-recognition-dataset/Test/Test/"
      ],
      "metadata": {
        "colab": {
          "base_uri": "https://localhost:8080/"
        },
        "id": "9iaWpMPobFOJ",
        "outputId": "5272f22f-71e6-435d-ef93-c49c96b61ab1"
      },
      "execution_count": 12,
      "outputs": [
        {
          "output_type": "stream",
          "name": "stdout",
          "text": [
            "\u001b[0m\u001b[01;34mHealthy\u001b[0m/  \u001b[01;34mPowdery\u001b[0m/  \u001b[01;34mRust\u001b[0m/\n"
          ]
        }
      ]
    },
    {
      "cell_type": "code",
      "source": [
        "import os\n",
        "import cv2\n",
        "import numpy as np\n",
        "\n",
        "test_dataset_path = '/kaggle/input/plant-disease-recognition-dataset/Test/Test/'\n",
        "\n",
        "# Function to preprocess test images\n",
        "def load_test_images(img_size, color_mode):\n",
        "    X_test, Y_test = [], []\n",
        "    class_labels = sorted(os.listdir(test_dataset_path))\n",
        "\n",
        "    for label in class_labels:\n",
        "        class_path = os.path.join(test_dataset_path, label)\n",
        "        for img_name in os.listdir(class_path):\n",
        "            img_path = os.path.join(class_path, img_name)\n",
        "            img = cv2.imread(img_path)\n",
        "\n",
        "            if color_mode == \"greyscale\":\n",
        "                img = cv2.cvtColor(img, cv2.COLOR_BGR2GRAY)  # Convert to Greyscale\n",
        "                img = np.expand_dims(img, axis=-1)  # Add channel dimension\n",
        "\n",
        "            img = cv2.resize(img, img_size)  # Resize to required size\n",
        "            X_test.append(img)\n",
        "            Y_test.append(label)\n",
        "\n",
        "    X_test = np.array(X_test) / 255.0  # Normalize images\n",
        "    return X_test, np.array(Y_test)"
      ],
      "metadata": {
        "id": "7WgMt5KObOHi"
      },
      "execution_count": 14,
      "outputs": []
    },
    {
      "cell_type": "code",
      "source": [
        "from sklearn.metrics import accuracy_score\n",
        "\n",
        "# Evaluate models on the test dataset\n",
        "for key, (model, label_encoder) in models.items():\n",
        "    img_size = tuple(map(int, key.split('_')[1].split('x')))\n",
        "    color_mode = key.split('_')[0]\n",
        "\n",
        "    print(f\"\\nEvaluating Model: {key}...\")\n",
        "\n",
        "    # Load test images in the same format\n",
        "    X_test, Y_test = load_test_images(img_size, color_mode)\n",
        "\n",
        "    # Convert labels to numerical encoding\n",
        "    Y_test_encoded = label_encoder.transform(Y_test)\n",
        "    Y_test_encoded = to_categorical(Y_test_encoded)\n",
        "\n",
        "    # Predict classes\n",
        "    Y_pred = model.predict(X_test)\n",
        "    Y_pred_classes = np.argmax(Y_pred, axis=1)  # Convert one-hot to class index\n",
        "    Y_test_classes = np.argmax(Y_test_encoded, axis=1)\n",
        "\n",
        "    # Calculate accuracy\n",
        "    acc = accuracy_score(Y_test_classes, Y_pred_classes)\n",
        "    print(f\"Accuracy for {key}: {acc:.4f}\")"
      ],
      "metadata": {
        "colab": {
          "base_uri": "https://localhost:8080/"
        },
        "id": "vifo_0GGbdKz",
        "outputId": "ef9c551b-a52f-4474-dff5-b77bd9580358"
      },
      "execution_count": 15,
      "outputs": [
        {
          "output_type": "stream",
          "name": "stdout",
          "text": [
            "\n",
            "Evaluating Model: greyscale_256x256...\n",
            "\u001b[1m5/5\u001b[0m \u001b[32m━━━━━━━━━━━━━━━━━━━━\u001b[0m\u001b[37m\u001b[0m \u001b[1m1s\u001b[0m 295ms/step\n",
            "Accuracy for greyscale_256x256: 0.3333\n",
            "\n",
            "Evaluating Model: RGB_256x256...\n",
            "\u001b[1m5/5\u001b[0m \u001b[32m━━━━━━━━━━━━━━━━━━━━\u001b[0m\u001b[37m\u001b[0m \u001b[1m1s\u001b[0m 127ms/step\n",
            "Accuracy for RGB_256x256: 0.3333\n",
            "\n",
            "Evaluating Model: greyscale_200x200...\n"
          ]
        },
        {
          "output_type": "stream",
          "name": "stderr",
          "text": [
            "WARNING:tensorflow:5 out of the last 11 calls to <function TensorFlowTrainer.make_predict_function.<locals>.one_step_on_data_distributed at 0x796e11c0f2e0> triggered tf.function retracing. Tracing is expensive and the excessive number of tracings could be due to (1) creating @tf.function repeatedly in a loop, (2) passing tensors with different shapes, (3) passing Python objects instead of tensors. For (1), please define your @tf.function outside of the loop. For (2), @tf.function has reduce_retracing=True option that can avoid unnecessary retracing. For (3), please refer to https://www.tensorflow.org/guide/function#controlling_retracing and https://www.tensorflow.org/api_docs/python/tf/function for  more details.\n"
          ]
        },
        {
          "output_type": "stream",
          "name": "stdout",
          "text": [
            "\r\u001b[1m1/5\u001b[0m \u001b[32m━━━━\u001b[0m\u001b[37m━━━━━━━━━━━━━━━━\u001b[0m \u001b[1m0s\u001b[0m 217ms/step"
          ]
        },
        {
          "output_type": "stream",
          "name": "stderr",
          "text": [
            "WARNING:tensorflow:5 out of the last 11 calls to <function TensorFlowTrainer.make_predict_function.<locals>.one_step_on_data_distributed at 0x796e11c0f2e0> triggered tf.function retracing. Tracing is expensive and the excessive number of tracings could be due to (1) creating @tf.function repeatedly in a loop, (2) passing tensors with different shapes, (3) passing Python objects instead of tensors. For (1), please define your @tf.function outside of the loop. For (2), @tf.function has reduce_retracing=True option that can avoid unnecessary retracing. For (3), please refer to https://www.tensorflow.org/guide/function#controlling_retracing and https://www.tensorflow.org/api_docs/python/tf/function for  more details.\n"
          ]
        },
        {
          "output_type": "stream",
          "name": "stdout",
          "text": [
            "\u001b[1m5/5\u001b[0m \u001b[32m━━━━━━━━━━━━━━━━━━━━\u001b[0m\u001b[37m\u001b[0m \u001b[1m1s\u001b[0m 207ms/step\n",
            "Accuracy for greyscale_200x200: 0.3333\n",
            "\n",
            "Evaluating Model: RGB_200x200...\n",
            "\u001b[1m5/5\u001b[0m \u001b[32m━━━━━━━━━━━━━━━━━━━━\u001b[0m\u001b[37m\u001b[0m \u001b[1m1s\u001b[0m 118ms/step\n",
            "Accuracy for RGB_200x200: 0.6200\n"
          ]
        }
      ]
    },
    {
      "cell_type": "code",
      "source": [
        "# prompt: save all four models\n",
        "\n",
        "import os\n",
        "for key, (model, encoder) in models.items():\n",
        "    model_name = f\"{key}_model.h5\"\n",
        "    model.save(model_name)\n",
        "    print(f\"Model {key} saved as {model_name}\")\n",
        "\n",
        "    encoder_name = f\"{key}_encoder.npy\"\n",
        "    np.save(encoder_name, encoder.classes_)\n",
        "    print(f\"Encoder for {key} saved as {encoder_name}\")\n"
      ],
      "metadata": {
        "colab": {
          "base_uri": "https://localhost:8080/"
        },
        "id": "cwPjOzByhsvm",
        "outputId": "22c9157a-04be-413a-e678-81eebe1376ac"
      },
      "execution_count": 16,
      "outputs": [
        {
          "output_type": "stream",
          "name": "stderr",
          "text": [
            "WARNING:absl:You are saving your model as an HDF5 file via `model.save()` or `keras.saving.save_model(model)`. This file format is considered legacy. We recommend using instead the native Keras format, e.g. `model.save('my_model.keras')` or `keras.saving.save_model(model, 'my_model.keras')`. \n",
            "WARNING:absl:You are saving your model as an HDF5 file via `model.save()` or `keras.saving.save_model(model)`. This file format is considered legacy. We recommend using instead the native Keras format, e.g. `model.save('my_model.keras')` or `keras.saving.save_model(model, 'my_model.keras')`. \n"
          ]
        },
        {
          "output_type": "stream",
          "name": "stdout",
          "text": [
            "Model greyscale_256x256 saved as greyscale_256x256_model.h5\n",
            "Encoder for greyscale_256x256 saved as greyscale_256x256_encoder.npy\n"
          ]
        },
        {
          "output_type": "stream",
          "name": "stderr",
          "text": [
            "WARNING:absl:You are saving your model as an HDF5 file via `model.save()` or `keras.saving.save_model(model)`. This file format is considered legacy. We recommend using instead the native Keras format, e.g. `model.save('my_model.keras')` or `keras.saving.save_model(model, 'my_model.keras')`. \n"
          ]
        },
        {
          "output_type": "stream",
          "name": "stdout",
          "text": [
            "Model RGB_256x256 saved as RGB_256x256_model.h5\n",
            "Encoder for RGB_256x256 saved as RGB_256x256_encoder.npy\n"
          ]
        },
        {
          "output_type": "stream",
          "name": "stderr",
          "text": [
            "WARNING:absl:You are saving your model as an HDF5 file via `model.save()` or `keras.saving.save_model(model)`. This file format is considered legacy. We recommend using instead the native Keras format, e.g. `model.save('my_model.keras')` or `keras.saving.save_model(model, 'my_model.keras')`. \n"
          ]
        },
        {
          "output_type": "stream",
          "name": "stdout",
          "text": [
            "Model greyscale_200x200 saved as greyscale_200x200_model.h5\n",
            "Encoder for greyscale_200x200 saved as greyscale_200x200_encoder.npy\n",
            "Model RGB_200x200 saved as RGB_200x200_model.h5\n",
            "Encoder for RGB_200x200 saved as RGB_200x200_encoder.npy\n"
          ]
        }
      ]
    },
    {
      "cell_type": "code",
      "source": [
        "import numpy as np\n",
        "import os\n",
        "from tensorflow.keras.models import load_model\n",
        "from tensorflow.keras.preprocessing.image import ImageDataGenerator\n",
        "from sklearn.metrics import confusion_matrix\n",
        "from scipy.stats import chi2_contingency\n",
        "import matplotlib.pyplot as plt\n",
        "import seaborn as sns\n",
        "\n",
        "# Set up paths and keys\n",
        "model_keys = ['RGB_200x200', 'RGB_256x256', 'greyscale_200x200', 'greyscale_256x256']\n",
        "model_paths = [f\"/content/{key}_model.h5\" for key in model_keys]\n",
        "encoder_paths = [f\"/content/{key}_encoder.npy\" for key in model_keys]\n",
        "\n",
        "# Load test data\n",
        "test_dir = '/kaggle/input/plant-disease-recognition-dataset/Test/Test/'  # ✅ Your test folder\n",
        "test_datagen = ImageDataGenerator(rescale=1./255)\n",
        "\n",
        "# Assuming all models expect either 200x200 or 256x256\n",
        "target_sizes = {\n",
        "    'RGB_200x200': (200, 200),\n",
        "    'RGB_256x256': (256, 256),\n",
        "    'greyscale_200x200': (200, 200),\n",
        "    'greyscale_256x256': (256, 256)\n",
        "}\n",
        "\n",
        "# Store results\n",
        "accuracies = []\n",
        "conf_matrices = []\n",
        "\n",
        "for key, model_path, encoder_path in zip(model_keys, model_paths, encoder_paths):\n",
        "    print(f\"\\n🔍 Evaluating Model: {key}...\")\n",
        "\n",
        "    # Load model\n",
        "    model = load_model(model_path)\n",
        "\n",
        "    # Load encoder\n",
        "    encoder_classes = np.load(encoder_path)\n",
        "    num_classes = len(encoder_classes)\n",
        "\n",
        "    # Create test generator for specific input shape\n",
        "    test_generator = test_datagen.flow_from_directory(\n",
        "        test_dir,\n",
        "        target_size=target_sizes[key],\n",
        "        batch_size=32,\n",
        "        class_mode='categorical',\n",
        "        shuffle=False\n",
        "    )\n",
        "\n",
        "    y_true = test_generator.classes\n",
        "\n",
        "    # Predict\n",
        "    y_pred_probs = model.predict(test_generator)\n",
        "    y_pred = np.argmax(y_pred_probs, axis=1)\n",
        "\n",
        "    # Confusion Matrix\n",
        "    cm = confusion_matrix(y_true, y_pred, labels=np.arange(num_classes))\n",
        "    conf_matrices.append(cm.flatten())\n",
        "\n",
        "    # Accuracy\n",
        "    acc = np.trace(cm) / np.sum(cm)\n",
        "    accuracies.append(acc)\n",
        "\n",
        "    # Optional: Display confusion matrix\n",
        "    plt.figure(figsize=(6, 4))\n",
        "    sns.heatmap(cm, annot=True, fmt=\"d\", cmap=\"Blues\")\n",
        "    plt.title(f\"{key} Confusion Matrix\")\n",
        "    plt.xlabel(\"Predicted\")\n",
        "    plt.ylabel(\"Actual\")\n",
        "    plt.show()\n",
        "\n",
        "    print(f\"✅ Accuracy for {key}: {acc:.4f}\")\n",
        "\n",
        "# Convert confusion matrices to array for chi-square\n",
        "conf_array = np.array(conf_matrices)\n",
        "\n",
        "# Chi-square test\n",
        "chi2_stat, p_val, dof, expected = chi2_contingency(conf_array)\n",
        "\n",
        "print(\"\\n📊 Chi-Square Test Results\")\n",
        "print(f\"Chi2 Statistic: {chi2_stat:.4f}\")\n",
        "print(f\"P-value: {p_val:.6f}\")\n",
        "print(f\"Degrees of Freedom: {dof}\")\n",
        "\n",
        "# Best model\n",
        "best_index = np.argmax(accuracies)\n",
        "print(f\"\\n🏆 Best Model: {model_keys[best_index]} with Accuracy: {accuracies[best_index]:.4f}\")"
      ],
      "metadata": {
        "colab": {
          "base_uri": "https://localhost:8080/",
          "height": 1000
        },
        "id": "kKJKZZ4shwQI",
        "outputId": "1dae96c3-d6e3-4654-ec87-13e7e10d8f59"
      },
      "execution_count": 18,
      "outputs": [
        {
          "output_type": "stream",
          "name": "stdout",
          "text": [
            "\n",
            "🔍 Evaluating Model: RGB_200x200...\n"
          ]
        },
        {
          "output_type": "stream",
          "name": "stderr",
          "text": [
            "WARNING:absl:Compiled the loaded model, but the compiled metrics have yet to be built. `model.compile_metrics` will be empty until you train or evaluate the model.\n"
          ]
        },
        {
          "output_type": "stream",
          "name": "stdout",
          "text": [
            "Found 150 images belonging to 3 classes.\n"
          ]
        },
        {
          "output_type": "stream",
          "name": "stderr",
          "text": [
            "/usr/local/lib/python3.11/dist-packages/keras/src/trainers/data_adapters/py_dataset_adapter.py:121: UserWarning: Your `PyDataset` class should call `super().__init__(**kwargs)` in its constructor. `**kwargs` can include `workers`, `use_multiprocessing`, `max_queue_size`. Do not pass these arguments to `fit()`, as they will be ignored.\n",
            "  self._warn_if_super_not_called()\n"
          ]
        },
        {
          "output_type": "stream",
          "name": "stdout",
          "text": [
            "\u001b[1m5/5\u001b[0m \u001b[32m━━━━━━━━━━━━━━━━━━━━\u001b[0m\u001b[37m\u001b[0m \u001b[1m8s\u001b[0m 2s/step\n"
          ]
        },
        {
          "output_type": "display_data",
          "data": {
            "text/plain": [
              "<Figure size 600x400 with 2 Axes>"
            ],
            "image/png": "[encoded data removed]"
          },
          "metadata": {}
        },
        {
          "output_type": "stream",
          "name": "stderr",
          "text": [
            "WARNING:absl:Compiled the loaded model, but the compiled metrics have yet to be built. `model.compile_metrics` will be empty until you train or evaluate the model.\n"
          ]
        },
        {
          "output_type": "stream",
          "name": "stdout",
          "text": [
            "✅ Accuracy for RGB_200x200: 0.5933\n",
            "\n",
            "🔍 Evaluating Model: RGB_256x256...\n",
            "Found 150 images belonging to 3 classes.\n"
          ]
        },
        {
          "output_type": "stream",
          "name": "stderr",
          "text": [
            "/usr/local/lib/python3.11/dist-packages/keras/src/trainers/data_adapters/py_dataset_adapter.py:121: UserWarning: Your `PyDataset` class should call `super().__init__(**kwargs)` in its constructor. `**kwargs` can include `workers`, `use_multiprocessing`, `max_queue_size`. Do not pass these arguments to `fit()`, as they will be ignored.\n",
            "  self._warn_if_super_not_called()\n"
          ]
        },
        {
          "output_type": "stream",
          "name": "stdout",
          "text": [
            "\u001b[1m5/5\u001b[0m \u001b[32m━━━━━━━━━━━━━━━━━━━━\u001b[0m\u001b[37m\u001b[0m \u001b[1m8s\u001b[0m 2s/step\n"
          ]
        },
        {
          "output_type": "display_data",
          "data": {
            "text/plain": [
              "<Figure size 600x400 with 2 Axes>"
            ],
            "image/png": "[encoded data removed]"
          },
          "metadata": {}
        },
        {
          "output_type": "stream",
          "name": "stdout",
          "text": [
            "✅ Accuracy for RGB_256x256: 0.3333\n",
            "\n",
            "🔍 Evaluating Model: greyscale_200x200...\n"
          ]
        },
        {
          "output_type": "stream",
          "name": "stderr",
          "text": [
            "WARNING:absl:Compiled the loaded model, but the compiled metrics have yet to be built. `model.compile_metrics` will be empty until you train or evaluate the model.\n"
          ]
        },
        {
          "output_type": "stream",
          "name": "stdout",
          "text": [
            "Found 150 images belonging to 3 classes.\n"
          ]
        },
        {
          "output_type": "stream",
          "name": "stderr",
          "text": [
            "/usr/local/lib/python3.11/dist-packages/keras/src/trainers/data_adapters/py_dataset_adapter.py:121: UserWarning: Your `PyDataset` class should call `super().__init__(**kwargs)` in its constructor. `**kwargs` can include `workers`, `use_multiprocessing`, `max_queue_size`. Do not pass these arguments to `fit()`, as they will be ignored.\n",
            "  self._warn_if_super_not_called()\n"
          ]
        },
        {
          "output_type": "error",
          "ename": "ValueError",
          "evalue": "Exception encountered when calling Sequential.call().\n\n\u001b[1mInput 0 of layer \"conv2d_2\" is incompatible with the layer: expected axis -1 of input shape to have value 1, but received input with shape (32, 200, 200, 3)\u001b[0m\n\nArguments received by Sequential.call():\n  • inputs=tf.Tensor(shape=(32, 200, 200, 3), dtype=float32)\n  • training=False\n  • mask=None",
          "traceback": [
            "\u001b[0;31m---------------------------------------------------------------------------\u001b[0m",
            "\u001b[0;31mValueError\u001b[0m                                Traceback (most recent call last)",
            "\u001b[0;32m<ipython-input-18-63b538d3e6ca>\u001b[0m in \u001b[0;36m<cell line: 0>\u001b[0;34m()\u001b[0m\n\u001b[1;32m     51\u001b[0m \u001b[0;34m\u001b[0m\u001b[0m\n\u001b[1;32m     52\u001b[0m     \u001b[0;31m# Predict\u001b[0m\u001b[0;34m\u001b[0m\u001b[0;34m\u001b[0m\u001b[0m\n\u001b[0;32m---> 53\u001b[0;31m     \u001b[0my_pred_probs\u001b[0m \u001b[0;34m=\u001b[0m \u001b[0mmodel\u001b[0m\u001b[0;34m.\u001b[0m\u001b[0mpredict\u001b[0m\u001b[0;34m(\u001b[0m\u001b[0mtest_generator\u001b[0m\u001b[0;34m)\u001b[0m\u001b[0;34m\u001b[0m\u001b[0;34m\u001b[0m\u001b[0m\n\u001b[0m\u001b[1;32m     54\u001b[0m     \u001b[0my_pred\u001b[0m \u001b[0;34m=\u001b[0m \u001b[0mnp\u001b[0m\u001b[0;34m.\u001b[0m\u001b[0margmax\u001b[0m\u001b[0;34m(\u001b[0m\u001b[0my_pred_probs\u001b[0m\u001b[0;34m,\u001b[0m \u001b[0maxis\u001b[0m\u001b[0;34m=\u001b[0m\u001b[0;36m1\u001b[0m\u001b[0;34m)\u001b[0m\u001b[0;34m\u001b[0m\u001b[0;34m\u001b[0m\u001b[0m\n\u001b[1;32m     55\u001b[0m \u001b[0;34m\u001b[0m\u001b[0m\n",
            "\u001b[0;32m/usr/local/lib/python3.11/dist-packages/keras/src/utils/traceback_utils.py\u001b[0m in \u001b[0;36merror_handler\u001b[0;34m(*args, **kwargs)\u001b[0m\n\u001b[1;32m    120\u001b[0m             \u001b[0;31m# To get the full stack trace, call:\u001b[0m\u001b[0;34m\u001b[0m\u001b[0;34m\u001b[0m\u001b[0m\n\u001b[1;32m    121\u001b[0m             \u001b[0;31m# `keras.config.disable_traceback_filtering()`\u001b[0m\u001b[0;34m\u001b[0m\u001b[0;34m\u001b[0m\u001b[0m\n\u001b[0;32m--> 122\u001b[0;31m             \u001b[0;32mraise\u001b[0m \u001b[0me\u001b[0m\u001b[0;34m.\u001b[0m\u001b[0mwith_traceback\u001b[0m\u001b[0;34m(\u001b[0m\u001b[0mfiltered_tb\u001b[0m\u001b[0;34m)\u001b[0m \u001b[0;32mfrom\u001b[0m \u001b[0;32mNone\u001b[0m\u001b[0;34m\u001b[0m\u001b[0;34m\u001b[0m\u001b[0m\n\u001b[0m\u001b[1;32m    123\u001b[0m         \u001b[0;32mfinally\u001b[0m\u001b[0;34m:\u001b[0m\u001b[0;34m\u001b[0m\u001b[0;34m\u001b[0m\u001b[0m\n\u001b[1;32m    124\u001b[0m             \u001b[0;32mdel\u001b[0m \u001b[0mfiltered_tb\u001b[0m\u001b[0;34m\u001b[0m\u001b[0;34m\u001b[0m\u001b[0m\n",
            "\u001b[0;32m/usr/local/lib/python3.11/dist-packages/keras/src/layers/input_spec.py\u001b[0m in \u001b[0;36massert_input_compatibility\u001b[0;34m(input_spec, inputs, layer_name)\u001b[0m\n\u001b[1;32m    225\u001b[0m                     \u001b[0;32mNone\u001b[0m\u001b[0;34m,\u001b[0m\u001b[0;34m\u001b[0m\u001b[0;34m\u001b[0m\u001b[0m\n\u001b[1;32m    226\u001b[0m                 }:\n\u001b[0;32m--> 227\u001b[0;31m                     raise ValueError(\n\u001b[0m\u001b[1;32m    228\u001b[0m                         \u001b[0;34mf'Input {input_index} of layer \"{layer_name}\" is '\u001b[0m\u001b[0;34m\u001b[0m\u001b[0;34m\u001b[0m\u001b[0m\n\u001b[1;32m    229\u001b[0m                         \u001b[0;34mf\"incompatible with the layer: expected axis {axis} \"\u001b[0m\u001b[0;34m\u001b[0m\u001b[0;34m\u001b[0m\u001b[0m\n",
            "\u001b[0;31mValueError\u001b[0m: Exception encountered when calling Sequential.call().\n\n\u001b[1mInput 0 of layer \"conv2d_2\" is incompatible with the layer: expected axis -1 of input shape to have value 1, but received input with shape (32, 200, 200, 3)\u001b[0m\n\nArguments received by Sequential.call():\n  • inputs=tf.Tensor(shape=(32, 200, 200, 3), dtype=float32)\n  • training=False\n  • mask=None"
          ]
        }
      ]
    },
    {
      "cell_type": "code",
      "source": [
        "import numpy as np\n",
        "import os\n",
        "from tensorflow.keras.models import load_model\n",
        "from tensorflow.keras.preprocessing.image import ImageDataGenerator\n",
        "from sklearn.metrics import confusion_matrix\n",
        "from scipy.stats import chi2_contingency\n",
        "import matplotlib.pyplot as plt\n",
        "import seaborn as sns\n",
        "\n",
        "# Set up paths and model keys\n",
        "model_keys = ['RGB_200x200', 'RGB_256x256', 'greyscale_200x200', 'greyscale_256x256']\n",
        "model_paths = [f\"/content/{key}_model.h5\" for key in model_keys]\n",
        "encoder_paths = [f\"/content/{key}_encoder.npy\" for key in model_keys]\n",
        "\n",
        "# Dataset path\n",
        "test_dir = '/kaggle/input/plant-disease-recognition-dataset/Test/Test/'\n",
        "test_datagen = ImageDataGenerator(rescale=1./255)\n",
        "\n",
        "# Target input sizes\n",
        "target_sizes = {\n",
        "    'RGB_200x200': (200, 200),\n",
        "    'RGB_256x256': (256, 256),\n",
        "    'greyscale_200x200': (200, 200),\n",
        "    'greyscale_256x256': (256, 256)\n",
        "}\n",
        "\n",
        "accuracies = []\n",
        "conf_matrices = []\n",
        "\n",
        "for key, model_path, encoder_path in zip(model_keys, model_paths, encoder_paths):\n",
        "    print(f\"\\n🔍 Evaluating Model: {key}...\")\n",
        "\n",
        "    # Load model and encoder\n",
        "    model = load_model(model_path)\n",
        "    encoder_classes = np.load(encoder_path)\n",
        "    num_classes = len(encoder_classes)\n",
        "\n",
        "    # Set color mode\n",
        "    color_mode = 'grayscale' if 'greyscale' in key.lower() else 'rgb'\n",
        "\n",
        "    # Load test images\n",
        "    test_generator = test_datagen.flow_from_directory(\n",
        "        test_dir,\n",
        "        target_size=target_sizes[key],\n",
        "        batch_size=32,\n",
        "        class_mode='categorical',\n",
        "        color_mode=color_mode,\n",
        "        shuffle=False\n",
        "    )\n",
        "\n",
        "    # Ground truth\n",
        "    y_true = test_generator.classes\n",
        "\n",
        "    # Predictions\n",
        "    y_pred_probs = model.predict(test_generator)\n",
        "    y_pred = np.argmax(y_pred_probs, axis=1)\n",
        "\n",
        "    # Confusion matrix\n",
        "    cm = confusion_matrix(y_true, y_pred, labels=np.arange(num_classes))\n",
        "    conf_matrices.append(cm)\n",
        "\n",
        "    # Accuracy\n",
        "    acc = np.trace(cm) / np.sum(cm)\n",
        "    accuracies.append(acc)\n",
        "\n",
        "    # Plot CM\n",
        "    plt.figure(figsize=(6, 4))\n",
        "    sns.heatmap(cm, annot=True, fmt=\"d\", cmap=\"Blues\", xticklabels=encoder_classes, yticklabels=encoder_classes)\n",
        "    plt.title(f\"{key} Confusion Matrix\")\n",
        "    plt.xlabel(\"Predicted\")\n",
        "    plt.ylabel(\"Actual\")\n",
        "    plt.show()\n",
        "\n",
        "    print(f\"✅ Accuracy for {key}: {acc:.4f}\")\n",
        "\n",
        "# Stack all confusion matrices\n",
        "conf_array = np.array(conf_matrices)\n",
        "\n",
        "# Combine into a single contingency table (sum across models for each class pair)\n",
        "combined_cm = np.sum(conf_array, axis=0)\n",
        "\n",
        "# Chi-square test\n",
        "chi2_stat, p_val, dof, expected = chi2_contingency(combined_cm)\n",
        "\n",
        "print(\"\\n📊 Chi-Square Test Results\")\n",
        "print(f\"Chi2 Statistic     : {chi2_stat:.4f}\")\n",
        "print(f\"P-value            : {p_val:.6f}\")\n",
        "print(f\"Degrees of Freedom : {dof}\")\n",
        "\n",
        "# Best model based on accuracy\n",
        "best_index = np.argmax(accuracies)\n",
        "print(f\"\\n🏆 Best Model: {model_keys[best_index]} with Accuracy: {accuracies[best_index]:.4f}\")"
      ],
      "metadata": {
        "colab": {
          "base_uri": "https://localhost:8080/",
          "height": 1000
        },
        "id": "-hAo_SGjjGQS",
        "outputId": "2e2e2ec1-cf5d-4bda-bffa-206285df6791"
      },
      "execution_count": 19,
      "outputs": [
        {
          "output_type": "stream",
          "name": "stderr",
          "text": [
            "WARNING:absl:Compiled the loaded model, but the compiled metrics have yet to be built. `model.compile_metrics` will be empty until you train or evaluate the model.\n"
          ]
        },
        {
          "output_type": "stream",
          "name": "stdout",
          "text": [
            "\n",
            "🔍 Evaluating Model: RGB_200x200...\n",
            "Found 150 images belonging to 3 classes.\n"
          ]
        },
        {
          "output_type": "stream",
          "name": "stderr",
          "text": [
            "/usr/local/lib/python3.11/dist-packages/keras/src/trainers/data_adapters/py_dataset_adapter.py:121: UserWarning: Your `PyDataset` class should call `super().__init__(**kwargs)` in its constructor. `**kwargs` can include `workers`, `use_multiprocessing`, `max_queue_size`. Do not pass these arguments to `fit()`, as they will be ignored.\n",
            "  self._warn_if_super_not_called()\n"
          ]
        },
        {
          "output_type": "stream",
          "name": "stdout",
          "text": [
            "\u001b[1m5/5\u001b[0m \u001b[32m━━━━━━━━━━━━━━━━━━━━\u001b[0m\u001b[37m\u001b[0m \u001b[1m8s\u001b[0m 2s/step\n"
          ]
        },
        {
          "output_type": "display_data",
          "data": {
            "text/plain": [
              "<Figure size 600x400 with 2 Axes>"
            ],
            "image/png": "[encoded data removed]"
          },
          "metadata": {}
        },
        {
          "output_type": "stream",
          "name": "stdout",
          "text": [
            "✅ Accuracy for RGB_200x200: 0.5933\n",
            "\n",
            "🔍 Evaluating Model: RGB_256x256...\n"
          ]
        },
        {
          "output_type": "stream",
          "name": "stderr",
          "text": [
            "WARNING:absl:Compiled the loaded model, but the compiled metrics have yet to be built. `model.compile_metrics` will be empty until you train or evaluate the model.\n"
          ]
        },
        {
          "output_type": "stream",
          "name": "stdout",
          "text": [
            "Found 150 images belonging to 3 classes.\n"
          ]
        },
        {
          "output_type": "stream",
          "name": "stderr",
          "text": [
            "/usr/local/lib/python3.11/dist-packages/keras/src/trainers/data_adapters/py_dataset_adapter.py:121: UserWarning: Your `PyDataset` class should call `super().__init__(**kwargs)` in its constructor. `**kwargs` can include `workers`, `use_multiprocessing`, `max_queue_size`. Do not pass these arguments to `fit()`, as they will be ignored.\n",
            "  self._warn_if_super_not_called()\n"
          ]
        },
        {
          "output_type": "stream",
          "name": "stdout",
          "text": [
            "\u001b[1m5/5\u001b[0m \u001b[32m━━━━━━━━━━━━━━━━━━━━\u001b[0m\u001b[37m\u001b[0m \u001b[1m8s\u001b[0m 2s/step\n"
          ]
        },
        {
          "output_type": "display_data",
          "data": {
            "text/plain": [
              "<Figure size 600x400 with 2 Axes>"
            ],
            "image/png": "[encoded data removed]"
          },
          "metadata": {}
        },
        {
          "output_type": "stream",
          "name": "stdout",
          "text": [
            "✅ Accuracy for RGB_256x256: 0.3333\n",
            "\n",
            "🔍 Evaluating Model: greyscale_200x200...\n"
          ]
        },
        {
          "output_type": "stream",
          "name": "stderr",
          "text": [
            "WARNING:absl:Compiled the loaded model, but the compiled metrics have yet to be built. `model.compile_metrics` will be empty until you train or evaluate the model.\n"
          ]
        },
        {
          "output_type": "stream",
          "name": "stdout",
          "text": [
            "Found 150 images belonging to 3 classes.\n"
          ]
        },
        {
          "output_type": "stream",
          "name": "stderr",
          "text": [
            "/usr/local/lib/python3.11/dist-packages/keras/src/trainers/data_adapters/py_dataset_adapter.py:121: UserWarning: Your `PyDataset` class should call `super().__init__(**kwargs)` in its constructor. `**kwargs` can include `workers`, `use_multiprocessing`, `max_queue_size`. Do not pass these arguments to `fit()`, as they will be ignored.\n",
            "  self._warn_if_super_not_called()\n"
          ]
        },
        {
          "output_type": "stream",
          "name": "stdout",
          "text": [
            "\u001b[1m5/5\u001b[0m \u001b[32m━━━━━━━━━━━━━━━━━━━━\u001b[0m\u001b[37m\u001b[0m \u001b[1m9s\u001b[0m 2s/step\n"
          ]
        },
        {
          "output_type": "display_data",
          "data": {
            "text/plain": [
              "<Figure size 600x400 with 2 Axes>"
            ],
            "image/png": "[encoded data removed]"
          },
          "metadata": {}
        },
        {
          "output_type": "stream",
          "name": "stdout",
          "text": [
            "✅ Accuracy for greyscale_200x200: 0.3333\n",
            "\n",
            "🔍 Evaluating Model: greyscale_256x256...\n"
          ]
        },
        {
          "output_type": "stream",
          "name": "stderr",
          "text": [
            "WARNING:absl:Compiled the loaded model, but the compiled metrics have yet to be built. `model.compile_metrics` will be empty until you train or evaluate the model.\n"
          ]
        },
        {
          "output_type": "stream",
          "name": "stdout",
          "text": [
            "Found 150 images belonging to 3 classes.\n"
          ]
        },
        {
          "output_type": "stream",
          "name": "stderr",
          "text": [
            "/usr/local/lib/python3.11/dist-packages/keras/src/trainers/data_adapters/py_dataset_adapter.py:121: UserWarning: Your `PyDataset` class should call `super().__init__(**kwargs)` in its constructor. `**kwargs` can include `workers`, `use_multiprocessing`, `max_queue_size`. Do not pass these arguments to `fit()`, as they will be ignored.\n",
            "  self._warn_if_super_not_called()\n"
          ]
        },
        {
          "output_type": "stream",
          "name": "stdout",
          "text": [
            "\u001b[1m5/5\u001b[0m \u001b[32m━━━━━━━━━━━━━━━━━━━━\u001b[0m\u001b[37m\u001b[0m \u001b[1m9s\u001b[0m 2s/step\n"
          ]
        },
        {
          "output_type": "display_data",
          "data": {
            "text/plain": [
              "<Figure size 600x400 with 2 Axes>"
            ],
            "image/png": "[encoded data removed]"
          },
          "metadata": {}
        },
        {
          "output_type": "stream",
          "name": "stdout",
          "text": [
            "✅ Accuracy for greyscale_256x256: 0.3333\n",
            "\n",
            "📊 Chi-Square Test Results\n",
            "Chi2 Statistic     : 60.4351\n",
            "P-value            : 0.000000\n",
            "Degrees of Freedom : 4\n",
            "\n",
            "🏆 Best Model: RGB_200x200 with Accuracy: 0.5933\n"
          ]
        }
      ]
    },
    {
      "cell_type": "code",
      "source": [],
      "metadata": {
        "id": "R2kuKzrAkgDI"
      },
      "execution_count": null,
      "outputs": []
    }
  ]
}